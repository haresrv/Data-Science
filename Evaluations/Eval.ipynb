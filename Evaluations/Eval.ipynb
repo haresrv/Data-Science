{
 "cells": [
  {
   "cell_type": "markdown",
   "metadata": {
    "id": "OPt4O_lBhYFP"
   },
   "source": [
    "# 0. Import the data"
   ]
  },
  {
   "cell_type": "code",
   "execution_count": 1,
   "metadata": {
    "id": "MKq3bMIp5hZk"
   },
   "outputs": [],
   "source": [
    "data={'Refinery Location':['Baytown','Baton Rouge','Texas City','Lake Charles','Whiting','Beaumont','Philadelphia','Pascagoula','Deer Park','Wood River','Port Arthur'],'Company':['Texas ExxonMobil','Louisiana ExxonMobil','Texas BP','Louisiana Citgo','Indiana BP','Texas ExxonMobil','Pennsylvania Sunoco','Mississippi Chevron','Texas partnership','Illinois WRB','Texas Premcor'],'Capacity':['567,000','503,000','467,720','429,500','410,000','348,500','335,000','330,000','329,800','306,000','289,000']}"
   ]
  },
  {
   "cell_type": "markdown",
   "metadata": {
    "id": "MAP-r98JevzE"
   },
   "source": [
    "# create data frame"
   ]
  },
  {
   "cell_type": "code",
   "execution_count": 3,
   "metadata": {
    "id": "Lbd19GCKevzF"
   },
   "outputs": [],
   "source": [
    "import pandas as pd\n",
    "import numpy as np\n",
    "# write your code here\n",
    "df=pd.DataFrame(data)"
   ]
  },
  {
   "cell_type": "code",
   "execution_count": 18,
   "metadata": {},
   "outputs": [],
   "source": [
    "df['Capacity']=df['Capacity'].str.split(',').str.join('').astype(int)"
   ]
  },
  {
   "cell_type": "code",
   "execution_count": 19,
   "metadata": {},
   "outputs": [
    {
     "data": {
      "text/html": [
       "<div>\n",
       "<style scoped>\n",
       "    .dataframe tbody tr th:only-of-type {\n",
       "        vertical-align: middle;\n",
       "    }\n",
       "\n",
       "    .dataframe tbody tr th {\n",
       "        vertical-align: top;\n",
       "    }\n",
       "\n",
       "    .dataframe thead th {\n",
       "        text-align: right;\n",
       "    }\n",
       "</style>\n",
       "<table border=\"1\" class=\"dataframe\">\n",
       "  <thead>\n",
       "    <tr style=\"text-align: right;\">\n",
       "      <th></th>\n",
       "      <th>Refinery Location</th>\n",
       "      <th>Company</th>\n",
       "      <th>Capacity</th>\n",
       "    </tr>\n",
       "  </thead>\n",
       "  <tbody>\n",
       "    <tr>\n",
       "      <th>0</th>\n",
       "      <td>Baytown</td>\n",
       "      <td>Texas ExxonMobil</td>\n",
       "      <td>567000</td>\n",
       "    </tr>\n",
       "    <tr>\n",
       "      <th>1</th>\n",
       "      <td>Baton Rouge</td>\n",
       "      <td>Louisiana ExxonMobil</td>\n",
       "      <td>503000</td>\n",
       "    </tr>\n",
       "    <tr>\n",
       "      <th>2</th>\n",
       "      <td>Texas City</td>\n",
       "      <td>Texas BP</td>\n",
       "      <td>467720</td>\n",
       "    </tr>\n",
       "    <tr>\n",
       "      <th>3</th>\n",
       "      <td>Lake Charles</td>\n",
       "      <td>Louisiana Citgo</td>\n",
       "      <td>429500</td>\n",
       "    </tr>\n",
       "    <tr>\n",
       "      <th>4</th>\n",
       "      <td>Whiting</td>\n",
       "      <td>Indiana BP</td>\n",
       "      <td>410000</td>\n",
       "    </tr>\n",
       "    <tr>\n",
       "      <th>5</th>\n",
       "      <td>Beaumont</td>\n",
       "      <td>Texas ExxonMobil</td>\n",
       "      <td>348500</td>\n",
       "    </tr>\n",
       "    <tr>\n",
       "      <th>6</th>\n",
       "      <td>Philadelphia</td>\n",
       "      <td>Pennsylvania Sunoco</td>\n",
       "      <td>335000</td>\n",
       "    </tr>\n",
       "    <tr>\n",
       "      <th>7</th>\n",
       "      <td>Pascagoula</td>\n",
       "      <td>Mississippi Chevron</td>\n",
       "      <td>330000</td>\n",
       "    </tr>\n",
       "    <tr>\n",
       "      <th>8</th>\n",
       "      <td>Deer Park</td>\n",
       "      <td>Texas partnership</td>\n",
       "      <td>329800</td>\n",
       "    </tr>\n",
       "    <tr>\n",
       "      <th>9</th>\n",
       "      <td>Wood River</td>\n",
       "      <td>Illinois WRB</td>\n",
       "      <td>306000</td>\n",
       "    </tr>\n",
       "    <tr>\n",
       "      <th>10</th>\n",
       "      <td>Port Arthur</td>\n",
       "      <td>Texas Premcor</td>\n",
       "      <td>289000</td>\n",
       "    </tr>\n",
       "  </tbody>\n",
       "</table>\n",
       "</div>"
      ],
      "text/plain": [
       "   Refinery Location               Company  Capacity\n",
       "0            Baytown      Texas ExxonMobil    567000\n",
       "1        Baton Rouge  Louisiana ExxonMobil    503000\n",
       "2         Texas City              Texas BP    467720\n",
       "3       Lake Charles       Louisiana Citgo    429500\n",
       "4            Whiting            Indiana BP    410000\n",
       "5           Beaumont      Texas ExxonMobil    348500\n",
       "6       Philadelphia   Pennsylvania Sunoco    335000\n",
       "7         Pascagoula   Mississippi Chevron    330000\n",
       "8          Deer Park     Texas partnership    329800\n",
       "9         Wood River          Illinois WRB    306000\n",
       "10       Port Arthur         Texas Premcor    289000"
      ]
     },
     "execution_count": 19,
     "metadata": {},
     "output_type": "execute_result"
    }
   ],
   "source": [
    "df"
   ]
  },
  {
   "cell_type": "markdown",
   "metadata": {
    "id": "2J5LfkWfYFMG"
   },
   "source": [
    "# 1. What are the values of the mean and the median? Compare the answers and state which you prefer as a measure of location for these data and why."
   ]
  },
  {
   "cell_type": "code",
   "execution_count": 21,
   "metadata": {
    "id": "H4WZtsYnYtvQ"
   },
   "outputs": [
    {
     "data": {
      "text/plain": [
       "Capacity    392320.0\n",
       "dtype: float64"
      ]
     },
     "execution_count": 21,
     "metadata": {},
     "output_type": "execute_result"
    }
   ],
   "source": [
    "def mean_val():\n",
    "  # write your code here\n",
    "  return df.mean()# write your code here\n",
    "mean_val()"
   ]
  },
  {
   "cell_type": "code",
   "execution_count": 23,
   "metadata": {
    "id": "NUOU0KIYYJrc"
   },
   "outputs": [
    {
     "data": {
      "text/plain": [
       "Capacity    348500.0\n",
       "dtype: float64"
      ]
     },
     "execution_count": 23,
     "metadata": {},
     "output_type": "execute_result"
    }
   ],
   "source": [
    "def median_val():\n",
    "    # write your code here\n",
    "    return df.median()# write your code here\n",
    "median_val()"
   ]
  },
  {
   "cell_type": "markdown",
   "metadata": {
    "id": "AOkWufd5heYU"
   },
   "source": [
    "## Why??\n",
    "I will choose median as it is more prone to outliers than mean as it can be seen in this case"
   ]
  },
  {
   "cell_type": "markdown",
   "metadata": {
    "id": "t_E7cMfrZP1N"
   },
   "source": [
    "# 2. What are the values of the range and interquartile range? How do they differ?"
   ]
  },
  {
   "cell_type": "code",
   "execution_count": 35,
   "metadata": {
    "id": "PKQj99lOZF7f"
   },
   "outputs": [
    {
     "data": {
      "text/plain": [
       "278000"
      ]
     },
     "execution_count": 35,
     "metadata": {},
     "output_type": "execute_result"
    }
   ],
   "source": [
    "def range_val():\n",
    "  # write your code here\n",
    "  return df.Capacity.max()-df.Capacity.min()# write your code here\n",
    "range_val()"
   ]
  },
  {
   "cell_type": "code",
   "execution_count": 26,
   "metadata": {
    "id": "g0fpFU_mZYZ0"
   },
   "outputs": [
    {
     "data": {
      "text/plain": [
       "118710.0"
      ]
     },
     "execution_count": 26,
     "metadata": {},
     "output_type": "execute_result"
    }
   ],
   "source": [
    "def iqr_val():\n",
    "  # write your code here\n",
    "    Q1 = np.percentile(df.Capacity, 25, interpolation = 'midpoint')  \n",
    "    Q2 = np.percentile(df.Capacity, 50, interpolation = 'midpoint')  \n",
    "    Q3 = np.percentile(df.Capacity, 75, interpolation = 'midpoint')  \n",
    "    IQR = Q3 - Q1 \n",
    "    return IQR# write your code here\n",
    "iqr_val()"
   ]
  },
  {
   "cell_type": "markdown",
   "metadata": {
    "id": "aQNsuotiZ751"
   },
   "source": [
    "# 3. What are the values of variance and standard deviation(round off to 2 decimal places) for these data?"
   ]
  },
  {
   "cell_type": "code",
   "execution_count": 37,
   "metadata": {
    "id": "S24qSzhGZeOR"
   },
   "outputs": [
    {
     "data": {
      "text/plain": [
       "Capacity    90148.62\n",
       "dtype: float64"
      ]
     },
     "execution_count": 37,
     "metadata": {},
     "output_type": "execute_result"
    }
   ],
   "source": [
    "def std_val():\n",
    "    # write your code here\n",
    "    return round(df.std(),2)# write your code here\n",
    "std_val()"
   ]
  },
  {
   "cell_type": "code",
   "execution_count": 40,
   "metadata": {
    "id": "Yog613pmaB69"
   },
   "outputs": [
    {
     "data": {
      "text/plain": [
       "Capacity    8.126773e+09\n",
       "dtype: float64"
      ]
     },
     "execution_count": 40,
     "metadata": {},
     "output_type": "execute_result"
    }
   ],
   "source": [
    "def variance_val():\n",
    "    # write your code here\n",
    "    return round(df.var(axis=0),2)# write your code here\n",
    "variance_val()"
   ]
  },
  {
   "cell_type": "markdown",
   "metadata": {
    "id": "Hfo_HwxzbwIw"
   },
   "source": [
    "# 4. What is the z score for Pascagoula,Mississippi? What is the z score for Texas City,Texas? Interpret these z scores. Round off to 2 decimal places"
   ]
  },
  {
   "cell_type": "code",
   "execution_count": 46,
   "metadata": {
    "id": "MAmH7yxlaJO2"
   },
   "outputs": [
    {
     "data": {
      "text/plain": [
       "Capacity   -0.69\n",
       "dtype: float64"
      ]
     },
     "execution_count": 46,
     "metadata": {},
     "output_type": "execute_result"
    }
   ],
   "source": [
    "def z_miss():\n",
    "  # write your code here\n",
    "    z=(330000-mean_val())/(std_val()) \n",
    "    return round(z,2)# write your code here\n",
    "z_miss()"
   ]
  },
  {
   "cell_type": "code",
   "execution_count": 47,
   "metadata": {
    "id": "5XuIJY-7b2Ho",
    "scrolled": true
   },
   "outputs": [
    {
     "data": {
      "text/plain": [
       "Capacity    0.84\n",
       "dtype: float64"
      ]
     },
     "execution_count": 47,
     "metadata": {},
     "output_type": "execute_result"
    }
   ],
   "source": [
    "def z_texas():\n",
    "  # write your code here\n",
    "    z=(467720-mean_val())/(std_val())\n",
    "    return round(z,2)# write your code here\n",
    "z_texas()"
   ]
  },
  {
   "cell_type": "markdown",
   "metadata": {},
   "source": [
    "* for Pascagoula,Mississippi -- > Negative Z Score signifies it has lesser capacity compared to mean of distribution\n",
    "* for Texas City,Texas -- > +ve Z Score signifies it has more capacity compared to mean of distribution"
   ]
  },
  {
   "cell_type": "markdown",
   "metadata": {
    "id": "2-PFl1qacR51"
   },
   "source": [
    "# 5. Calculate the Pearsonian coefficient of skewness and kurtosis and comment on the skewness and kurtosis of this distribution. Round off to 2 decimal places"
   ]
  },
  {
   "cell_type": "code",
   "execution_count": 50,
   "metadata": {
    "id": "RehuBE8ScJJH"
   },
   "outputs": [
    {
     "data": {
      "text/plain": [
       "Capacity    0.78\n",
       "dtype: float64"
      ]
     },
     "execution_count": 50,
     "metadata": {},
     "output_type": "execute_result"
    }
   ],
   "source": [
    "def skew_val():\n",
    "    # write your code here\n",
    "    return round(df.skew(),2)\n",
    "skew_val()"
   ]
  },
  {
   "cell_type": "code",
   "execution_count": 51,
   "metadata": {
    "id": "owEwgUqOgVux"
   },
   "outputs": [
    {
     "data": {
      "text/plain": [
       "Capacity   -0.48\n",
       "dtype: float64"
      ]
     },
     "execution_count": 51,
     "metadata": {},
     "output_type": "execute_result"
    }
   ],
   "source": [
    "def kurtosis_val():\n",
    "    # write your code here\n",
    "    return round(df.kurtosis(),2)\n",
    "kurtosis_val()"
   ]
  },
  {
   "cell_type": "markdown",
   "metadata": {},
   "source": [
    "* +ve skewness--> Tail on the right side of the distribution is longer, which means mean and median will be greater than the mode\n",
    "* -ve Curtosis --> it has a flatter peak and thinner tails compared to a normal distribution. This means that more data values are located near the mean and less data values are located on the tails."
   ]
  },
  {
   "cell_type": "markdown",
   "metadata": {
    "id": "9Gc6rpnRgR5d"
   },
   "source": [
    "# 6. Assume normal distribution probabilty that the capacity is less than 330000 . Round off to 2 decimal places"
   ]
  },
  {
   "cell_type": "code",
   "execution_count": 54,
   "metadata": {
    "id": "zcuZWSYGepO6"
   },
   "outputs": [
    {
     "data": {
      "text/plain": [
       "-0.25"
      ]
     },
     "execution_count": 54,
     "metadata": {},
     "output_type": "execute_result"
    }
   ],
   "source": [
    "def probability_val():\n",
    "  # write your code here\n",
    "    #P(Z<(330000-mean/std)) I'm directly substituting from From Z-table \n",
    "    z=(330000-mean_val())/(std_val()) \n",
    "#     print(z) \n",
    "    return round(-0.2451,2)\n",
    "probability_val()"
   ]
  },
  {
   "cell_type": "markdown",
   "metadata": {
    "id": "3ltdFTEQmE2z"
   },
   "source": [
    "\n",
    "---\n",
    "\n",
    "# Times to travel to school (Question 7 to 10)\n",
    "Twenty students from a statistics class each collected a random sample of times on how long it took students to get to class from their homes. All the sample sizes were 30. The resulting means and standard deviations are listed.\n",
    "\n",
    "```\n",
    "means = [22, 31, 18, 27, 20, 17, 26, 34, 23, 29, 27, 24, 14, 29, 37, 23, 26, 21, 30, 29]\n",
    "stdevs = [3.7, 4.6, 2.4, 1.9, 3, 2.8, 1.9, 4.2, 2.6, 2.1, 1.4, 2.2, 3.1, 2.4, 2.8, 2.7, 1.8, 2, 2.2, 2.8]\n",
    "```"
   ]
  },
  {
   "cell_type": "markdown",
   "metadata": {
    "id": "EdAUUg-1awTq"
   },
   "source": [
    "# Using the above information, construct a dataframe named 'tt' in the code block below. Apart from the row index, the dataframe should have two columns namely 'means' and 'stdevs'. Also, use this dataframe to answer the following questions.\n"
   ]
  },
  {
   "cell_type": "code",
   "execution_count": 57,
   "metadata": {
    "id": "v1F3YiV3jV69"
   },
   "outputs": [
    {
     "data": {
      "text/html": [
       "<div>\n",
       "<style scoped>\n",
       "    .dataframe tbody tr th:only-of-type {\n",
       "        vertical-align: middle;\n",
       "    }\n",
       "\n",
       "    .dataframe tbody tr th {\n",
       "        vertical-align: top;\n",
       "    }\n",
       "\n",
       "    .dataframe thead th {\n",
       "        text-align: right;\n",
       "    }\n",
       "</style>\n",
       "<table border=\"1\" class=\"dataframe\">\n",
       "  <thead>\n",
       "    <tr style=\"text-align: right;\">\n",
       "      <th></th>\n",
       "      <th>means</th>\n",
       "      <th>stdevs</th>\n",
       "    </tr>\n",
       "  </thead>\n",
       "  <tbody>\n",
       "    <tr>\n",
       "      <th>0</th>\n",
       "      <td>22</td>\n",
       "      <td>3.7</td>\n",
       "    </tr>\n",
       "    <tr>\n",
       "      <th>1</th>\n",
       "      <td>31</td>\n",
       "      <td>4.6</td>\n",
       "    </tr>\n",
       "    <tr>\n",
       "      <th>2</th>\n",
       "      <td>18</td>\n",
       "      <td>2.4</td>\n",
       "    </tr>\n",
       "    <tr>\n",
       "      <th>3</th>\n",
       "      <td>27</td>\n",
       "      <td>1.9</td>\n",
       "    </tr>\n",
       "    <tr>\n",
       "      <th>4</th>\n",
       "      <td>20</td>\n",
       "      <td>3.0</td>\n",
       "    </tr>\n",
       "    <tr>\n",
       "      <th>5</th>\n",
       "      <td>17</td>\n",
       "      <td>2.8</td>\n",
       "    </tr>\n",
       "    <tr>\n",
       "      <th>6</th>\n",
       "      <td>26</td>\n",
       "      <td>1.9</td>\n",
       "    </tr>\n",
       "    <tr>\n",
       "      <th>7</th>\n",
       "      <td>34</td>\n",
       "      <td>4.2</td>\n",
       "    </tr>\n",
       "    <tr>\n",
       "      <th>8</th>\n",
       "      <td>23</td>\n",
       "      <td>2.6</td>\n",
       "    </tr>\n",
       "    <tr>\n",
       "      <th>9</th>\n",
       "      <td>29</td>\n",
       "      <td>2.1</td>\n",
       "    </tr>\n",
       "    <tr>\n",
       "      <th>10</th>\n",
       "      <td>27</td>\n",
       "      <td>1.4</td>\n",
       "    </tr>\n",
       "    <tr>\n",
       "      <th>11</th>\n",
       "      <td>24</td>\n",
       "      <td>2.2</td>\n",
       "    </tr>\n",
       "    <tr>\n",
       "      <th>12</th>\n",
       "      <td>14</td>\n",
       "      <td>3.1</td>\n",
       "    </tr>\n",
       "    <tr>\n",
       "      <th>13</th>\n",
       "      <td>29</td>\n",
       "      <td>2.4</td>\n",
       "    </tr>\n",
       "    <tr>\n",
       "      <th>14</th>\n",
       "      <td>37</td>\n",
       "      <td>2.8</td>\n",
       "    </tr>\n",
       "    <tr>\n",
       "      <th>15</th>\n",
       "      <td>23</td>\n",
       "      <td>2.7</td>\n",
       "    </tr>\n",
       "    <tr>\n",
       "      <th>16</th>\n",
       "      <td>26</td>\n",
       "      <td>1.8</td>\n",
       "    </tr>\n",
       "    <tr>\n",
       "      <th>17</th>\n",
       "      <td>21</td>\n",
       "      <td>2.0</td>\n",
       "    </tr>\n",
       "    <tr>\n",
       "      <th>18</th>\n",
       "      <td>30</td>\n",
       "      <td>2.2</td>\n",
       "    </tr>\n",
       "    <tr>\n",
       "      <th>19</th>\n",
       "      <td>29</td>\n",
       "      <td>2.8</td>\n",
       "    </tr>\n",
       "  </tbody>\n",
       "</table>\n",
       "</div>"
      ],
      "text/plain": [
       "    means  stdevs\n",
       "0      22     3.7\n",
       "1      31     4.6\n",
       "2      18     2.4\n",
       "3      27     1.9\n",
       "4      20     3.0\n",
       "5      17     2.8\n",
       "6      26     1.9\n",
       "7      34     4.2\n",
       "8      23     2.6\n",
       "9      29     2.1\n",
       "10     27     1.4\n",
       "11     24     2.2\n",
       "12     14     3.1\n",
       "13     29     2.4\n",
       "14     37     2.8\n",
       "15     23     2.7\n",
       "16     26     1.8\n",
       "17     21     2.0\n",
       "18     30     2.2\n",
       "19     29     2.8"
      ]
     },
     "execution_count": 57,
     "metadata": {},
     "output_type": "execute_result"
    }
   ],
   "source": [
    "# write your code here\n",
    "tt = pd.DataFrame({'means' : [22, 31, 18, 27, 20, 17, 26, 34, 23, 29, 27, 24, 14, 29, 37, 23, 26, 21, 30, 29],\n",
    "                  'stdevs' :[3.7, 4.6, 2.4, 1.9, 3, 2.8, 1.9, 4.2, 2.6, 2.1, 1.4, 2.2, 3.1, 2.4, 2.8, 2.7, 1.8, 2, 2.2, 2.8]})\n",
    "tt"
   ]
  },
  {
   "cell_type": "markdown",
   "metadata": {
    "id": "fAqMqV4cd4W6"
   },
   "source": [
    "# 7. From the values in the dataframe, use pandas functions to print a good estimate for the population mean and standard deviation. Display as a tuple\n"
   ]
  },
  {
   "cell_type": "code",
   "execution_count": 89,
   "metadata": {
    "id": "HTxxKdyLirpi"
   },
   "outputs": [
    {
     "data": {
      "text/plain": [
       "(25.35, 5.78)"
      ]
     },
     "execution_count": 89,
     "metadata": {},
     "output_type": "execute_result"
    }
   ],
   "source": [
    "def cal_std(observation, mean_of_observations):\n",
    "    sum_of_squared_deviation = 0\n",
    "    for i in range(len(observation)):\n",
    "        sum_of_squared_deviation+=(observation[i]- mean_of_observations)**2   \n",
    "    Standard_Deviation = ((sum_of_squared_deviation)/(len(observation)-1))**0.5\n",
    "    return round(Standard_Deviation,2)\n",
    "\n",
    "def estimate_mean_std():\n",
    "    # write your code here\n",
    "    sample_mean = (tt.sum(axis=0)/len(tt))[0]\n",
    "    sample_std = cal_std(tt.means,sample_mean)\n",
    "    return (sample_mean,sample_std)\n",
    "estimate_mean_std()"
   ]
  },
  {
   "cell_type": "markdown",
   "metadata": {},
   "source": [
    "* Central limit theorem says when large number of samples from same population is drawn, it'll follow normal distribution and population mean and \n",
    "  standard deviation are nothing but mean of sample mean and standard deviation of sample means"
   ]
  },
  {
   "cell_type": "markdown",
   "metadata": {
    "id": "iZIIRfOBiucS"
   },
   "source": [
    "# 8. Calculate the mean and standard deviation of the means.  Display as a tuple. 2 decimal places\n"
   ]
  },
  {
   "cell_type": "code",
   "execution_count": 86,
   "metadata": {
    "id": "XNRwm9M0zraG"
   },
   "outputs": [
    {
     "data": {
      "text/plain": [
       "(25.35, 5.78)"
      ]
     },
     "execution_count": 86,
     "metadata": {},
     "output_type": "execute_result"
    }
   ],
   "source": [
    "def mean_stdev():\n",
    "  # write your code here\n",
    "  return (tt.means.mean(),round(tt.means.std(),2))# write your code here\n",
    "mean_stdev()"
   ]
  },
  {
   "cell_type": "markdown",
   "metadata": {
    "id": "z7fnBRE4zr-t"
   },
   "source": [
    "# 9. Check the sampling error for students 3, 7, and 14 (Indices 2, 6 and 13).  Display as a tuple"
   ]
  },
  {
   "cell_type": "code",
   "execution_count": 96,
   "metadata": {
    "id": "ahhinaWG09bh"
   },
   "outputs": [
    {
     "data": {
      "text/plain": [
       "(0.438, 0.347, 0.438)"
      ]
     },
     "execution_count": 96,
     "metadata": {},
     "output_type": "execute_result"
    }
   ],
   "source": [
    "def error_val():\n",
    "  # write your code here\n",
    "  return ( round(tt.stdevs[2]/np.sqrt(30),3) ,round( tt.stdevs[6]/np.sqrt(30) ,3), round(tt.stdevs[13]/np.sqrt(30),3))\n",
    "error_val()"
   ]
  },
  {
   "cell_type": "markdown",
   "metadata": {
    "id": "L30dA40g2MhM"
   },
   "source": [
    "# 10. Compare the standard deviation of the sample of the 20 means. Is that equal to the standard deviation from student 3 divided by the square root of the sample size? How about for student 7, or 14? (Indices 2, 6 and 13). Print \"True\" or \"False\" boolean value for comparison done for each student.  Display as a tuple\n"
   ]
  },
  {
   "cell_type": "code",
   "execution_count": 102,
   "metadata": {
    "id": "AtKpc8Sx2kMp"
   },
   "outputs": [
    {
     "data": {
      "text/plain": [
       "(False, False, False)"
      ]
     },
     "execution_count": 102,
     "metadata": {},
     "output_type": "execute_result"
    }
   ],
   "source": [
    "def compare_val():\n",
    "  # write your code here\n",
    "  return (round(tt.stdevs[2]/np.sqrt(30),2)==estimate_mean_std()[1] , round(tt.stdevs[6]/np.sqrt(30),2)==estimate_mean_std()[1] ,round(tt.stdevs[13]/np.sqrt(30),2)==estimate_mean_std()[1] )\n",
    "compare_val()"
   ]
  }
 ],
 "metadata": {
  "colab": {
   "collapsed_sections": [],
   "name": "descriptive_eval-Questions.ipynb",
   "provenance": []
  },
  "kernelspec": {
   "display_name": "Python 3",
   "language": "python",
   "name": "python3"
  },
  "language_info": {
   "codemirror_mode": {
    "name": "ipython",
    "version": 3
   },
   "file_extension": ".py",
   "mimetype": "text/x-python",
   "name": "python",
   "nbconvert_exporter": "python",
   "pygments_lexer": "ipython3",
   "version": "3.7.6"
  }
 },
 "nbformat": 4,
 "nbformat_minor": 1
}
